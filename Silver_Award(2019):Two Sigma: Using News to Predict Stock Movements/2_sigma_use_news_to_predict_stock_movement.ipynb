{
 "cells": [
  {
   "cell_type": "markdown",
   "metadata": {
    "_uuid": "61683b3d1cba7506e7d7aa867f1d4e815818e720"
   },
   "source": []
  },
  {
   "cell_type": "markdown",
   "metadata": {
    "_uuid": "cc28a1e7d0a98f13bc76d6172516f65e07263890"
   },
   "source": [
    "<p>Note:Two Sigma doesn't allow the data to leave the Kaggle Kernel that you only can see the code here. In any case you want to check the notebook with data,please click here:\n",
    "    \n",
    "    https://www.kaggle.com/alluxia/lb-0-6326-tuned-xgboost-baseline"
   ]
  },
  {
   "cell_type": "markdown",
   "metadata": {
    "_uuid": "28f22f01fe854ef209669a33db45bd58190e2036"
   },
   "source": [
    "# XGBoost Baseline\n",
    "\n",
    "This notebook rephrases the challenge of predicting stock returns as the challenge of predicting whether a stock will go up. The evaluation  asks you to predict a confidence value between -1 and 1. The predicted confidence value gets then multiplied with the actual return. If your confidence is in the wrong direction (ie. you predict positive values while returns are actually negative), you loose on the metric. If your direction is right however, you want your confidence be as large as possible.\n",
    "\n",
    "Stocks can only go up or down, if the stock is not going up, it must go down (at least a little bit). So if we know our model confidence in the stock going up, then our new confidence is:\n",
    "$$\\hat{y}=up-(1-up)=2*up-1$$\n",
    "\n",
    "We are left with a \"simple\" binary classification problem, for which there are a number of good tool, here we use XGBoost, but pick your poison."
   ]
  },
  {
   "cell_type": "code",
   "execution_count": null,
   "metadata": {
    "_cell_guid": "79c7e3d0-c299-4dcb-8224-4455121ee9b0",
    "_kg_hide-input": true,
    "_uuid": "d629ff2d2480ee46fbb7e2d37f6b5fab8052498a"
   },
   "outputs": [],
   "source": [
    "import pandas as pd\n",
    "import numpy as np\n",
    "from sklearn import *\n",
    "from kaggle.competitions import twosigmanews\n",
    "env = twosigmanews.make_env()\n",
    "(market_train, news_train) = env.get_training_data()"
   ]
  },
  {
   "cell_type": "code",
   "execution_count": null,
   "metadata": {
    "_kg_hide-input": true,
    "_uuid": "f2dad9717c953f794c179d40f4729e5f92dfd829"
   },
   "outputs": [],
   "source": [
    "def data_prep(market_train,news_train):\n",
    "    market_train.time = market_train.time.dt.date\n",
    "    news_train.time = news_train.time.dt.hour\n",
    "    news_train.sourceTimestamp= news_train.sourceTimestamp.dt.hour\n",
    "    news_train.firstCreated = news_train.firstCreated.dt.date\n",
    "    news_train['assetCodesLen'] = news_train['assetCodes'].map(lambda x: len(eval(x)))\n",
    "    news_train['assetCodes'] = news_train['assetCodes'].map(lambda x: list(eval(x))[0])\n",
    "    kcol = ['firstCreated', 'assetCodes']\n",
    "    news_train = news_train.groupby(kcol, as_index=False).mean()\n",
    "    market_train = pd.merge(market_train, news_train, how='left', left_on=['time', 'assetCode'], \n",
    "                            right_on=['firstCreated', 'assetCodes'])\n",
    "    lbl = {k: v for v, k in enumerate(market_train['assetCode'].unique())}\n",
    "    market_train['assetCodeT'] = market_train['assetCode'].map(lbl)\n",
    "    \n",
    "    \n",
    "    market_train = market_train.dropna(axis=0)\n",
    "    \n",
    "    return market_train"
   ]
  },
  {
   "cell_type": "code",
   "execution_count": null,
   "metadata": {
    "_uuid": "dff38dc6d73fbea62c9b9a92d65e956e5d6a2c3f"
   },
   "outputs": [],
   "source": [
    "market_train = data_prep(market_train,news_train)"
   ]
  },
  {
   "cell_type": "code",
   "execution_count": null,
   "metadata": {
    "_uuid": "3b8cce945a12abee5f39cb0245c9673af1e80c06"
   },
   "outputs": [],
   "source": [
    "# The target is binary\n",
    "up = market_train.returnsOpenNextMktres10 >= 0"
   ]
  },
  {
   "cell_type": "code",
   "execution_count": null,
   "metadata": {
    "_kg_hide-input": true,
    "_uuid": "9ae876c4fe42afea0f8d851f9ad5f452e0e54172"
   },
   "outputs": [],
   "source": [
    "fcol = [c for c in market_train if c not in ['assetCode', 'assetCodes', 'assetCodesLen', 'assetName', 'audiences', \n",
    "                                             'firstCreated', 'headline', 'headlineTag', 'marketCommentary', 'provider', \n",
    "                                             'returnsOpenNextMktres10', 'sourceId', 'subjects', 'time', 'time_x', 'universe','sourceTimestamp']]"
   ]
  },
  {
   "cell_type": "code",
   "execution_count": null,
   "metadata": {
    "_uuid": "bcdc25c33aa7554fa478d22a1117e9cd70f3695e"
   },
   "outputs": [],
   "source": [
    "# We still need the returns for model tuning\n",
    "X = market_train[fcol].values\n",
    "up = up.values\n",
    "r = market_train.returnsOpenNextMktres10.values"
   ]
  },
  {
   "cell_type": "code",
   "execution_count": null,
   "metadata": {
    "_uuid": "b0606838c4f3048b0bf9201a474d10141e23a71e"
   },
   "outputs": [],
   "source": [
    "# Scaling of X values\n",
    "# It is good to keep these scaling values for later\n",
    "mins = np.min(X, axis=0)\n",
    "maxs = np.max(X, axis=0)\n",
    "rng = maxs - mins\n",
    "X = 1 - ((maxs - X) / rng)"
   ]
  },
  {
   "cell_type": "code",
   "execution_count": null,
   "metadata": {
    "_uuid": "1cbf8850869641f05fa82fa9f0b7940c7bd195cf"
   },
   "outputs": [],
   "source": [
    "# Sanity check\n",
    "assert X.shape[0] == up.shape[0] == r.shape[0]"
   ]
  },
  {
   "cell_type": "code",
   "execution_count": null,
   "metadata": {
    "_uuid": "4e7d6c785647616780c0d44551bc0ee9687764eb"
   },
   "outputs": [],
   "source": [
    "X_train, X_test, up_train, up_test, r_train, r_test\\\n",
    "= model_selection.train_test_split(X, up, r, test_size=0.25, random_state=99)"
   ]
  },
  {
   "cell_type": "code",
   "execution_count": null,
   "metadata": {
    "_uuid": "d0f53b50992ef3679eaa613f73886a7cd41f618e"
   },
   "outputs": [],
   "source": [
    "from xgboost import XGBClassifier\n",
    "import time"
   ]
  },
  {
   "cell_type": "code",
   "execution_count": null,
   "metadata": {
    "_uuid": "d7ca196ff23b888ec496a11d0e603b2f921d1e7b"
   },
   "outputs": [],
   "source": [
    "xgb_up = XGBClassifier(n_jobs=4,n_estimators=250,max_depth=8,eta=0.1)"
   ]
  },
  {
   "cell_type": "code",
   "execution_count": null,
   "metadata": {
    "_uuid": "5523094226fce884c6e8ae7f10f8bdcc087b9391"
   },
   "outputs": [],
   "source": [
    "t = time.time()\n",
    "print('Fitting Up')\n",
    "xgb_up.fit(X_train,up_train)\n",
    "print(f'Done, time = {time.time() - t}')"
   ]
  },
  {
   "cell_type": "markdown",
   "metadata": {
    "_uuid": "9c9c3df4b4f1460a9fce79e3c0b185cce6d502ec"
   },
   "source": [
    "A side effect of treating this as a binary task is that we can use a simpler metric to judge our models"
   ]
  },
  {
   "cell_type": "code",
   "execution_count": null,
   "metadata": {
    "_uuid": "b9704742ed38c1ea4d6cbb07e6176a8a5e06b4e0"
   },
   "outputs": [],
   "source": [
    "from sklearn.metrics import accuracy_score\n",
    "accuracy_score(xgb_up.predict(X_test),up_test)"
   ]
  },
  {
   "cell_type": "code",
   "execution_count": null,
   "metadata": {
    "_uuid": "882168eb5aad93dfaa3e2122bf8bca9fe1585a1e"
   },
   "outputs": [],
   "source": [
    "days = env.get_prediction_days()"
   ]
  },
  {
   "cell_type": "code",
   "execution_count": null,
   "metadata": {
    "_uuid": "ba0b0d6c0582cfea44b849a5d454963d39613757"
   },
   "outputs": [],
   "source": [
    "n_days = 0\n",
    "prep_time = 0\n",
    "prediction_time = 0\n",
    "packaging_time = 0\n",
    "for (market_obs_df, news_obs_df, predictions_template_df) in days:\n",
    "    n_days +=1\n",
    "    print(n_days,end=' ')\n",
    "    t = time.time()\n",
    "    market_obs_df = data_prep(market_obs_df, news_obs_df)\n",
    "    market_obs_df = market_obs_df[market_obs_df.assetCode.isin(predictions_template_df.assetCode)]\n",
    "    X_live = market_obs_df[fcol].values\n",
    "    X_live = 1 - ((maxs - X_live) / rng)\n",
    "    prep_time += time.time() - t\n",
    "    \n",
    "    t = time.time()\n",
    "    lp = xgb_up.predict_proba(X_live)\n",
    "    prediction_time += time.time() -t\n",
    "    \n",
    "    t = time.time()\n",
    "    confidence = 2* lp[:,1] -1\n",
    "    preds = pd.DataFrame({'assetCode':market_obs_df['assetCode'],'confidence':confidence})\n",
    "    predictions_template_df = predictions_template_df.merge(preds,how='left').drop('confidenceValue',axis=1).fillna(0).rename(columns={'confidence':'confidenceValue'})\n",
    "    env.predict(predictions_template_df)\n",
    "    packaging_time += time.time() - t"
   ]
  },
  {
   "cell_type": "code",
   "execution_count": null,
   "metadata": {
    "_uuid": "276d3a27bb4e07ee5b385c4e10a79f2d4afd707b"
   },
   "outputs": [],
   "source": [
    "env.write_submission_file()"
   ]
  },
  {
   "cell_type": "code",
   "execution_count": null,
   "metadata": {
    "_uuid": "2e66a8de2d58932d1d3df9f07794a5fa19f45725"
   },
   "outputs": [],
   "source": [
    "total = prep_time + prediction_time + packaging_time\n",
    "print(f'Preparing Data: {prep_time:.2f}s')\n",
    "print(f'Making Predictions: {prediction_time:.2f}s')\n",
    "print(f'Packing: {packaging_time:.2f}s')\n",
    "print(f'Total: {total:.2f}s')"
   ]
  },
  {
   "cell_type": "markdown",
   "metadata": {
    "_uuid": "a986b33984691203ee9d56830ccf0248baa2c9d9"
   },
   "source": [
    "For good measure, we can check what XGBoost bases its decisions on"
   ]
  },
  {
   "cell_type": "code",
   "execution_count": null,
   "metadata": {
    "_uuid": "53e5ef548b227c146994ebb02fbd395f69c3c368"
   },
   "outputs": [],
   "source": [
    "import matplotlib.pyplot as plt\n",
    "%matplotlib inline\n",
    "from xgboost import plot_importance"
   ]
  },
  {
   "cell_type": "code",
   "execution_count": null,
   "metadata": {
    "_uuid": "cb06f976b02d95bcc9bbfd6d58e3a492da1ce75e"
   },
   "outputs": [],
   "source": [
    "plt.figure(num=None, figsize=(10, 10), dpi=80, facecolor='w', edgecolor='k')\n",
    "plt.bar(range(len(xgb_up.feature_importances_)), xgb_up.feature_importances_)\n",
    "plt.xticks(range(len(xgb_up.feature_importances_)), fcol, rotation='vertical');"
   ]
  },
  {
   "cell_type": "code",
   "execution_count": null,
   "metadata": {
    "_uuid": "3cd54cb092fc7d772201d4b03310826e7946140c"
   },
   "outputs": [],
   "source": []
  }
 ],
 "metadata": {
  "kernelspec": {
   "display_name": "Python 3",
   "language": "python",
   "name": "python3"
  },
  "language_info": {
   "codemirror_mode": {
    "name": "ipython",
    "version": 3
   },
   "file_extension": ".py",
   "mimetype": "text/x-python",
   "name": "python",
   "nbconvert_exporter": "python",
   "pygments_lexer": "ipython3",
   "version": "3.6.8"
  }
 },
 "nbformat": 4,
 "nbformat_minor": 1
}
